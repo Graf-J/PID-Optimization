{
 "cells": [
  {
   "cell_type": "code",
   "execution_count": 3,
   "id": "initial_id",
   "metadata": {
    "collapsed": true,
    "ExecuteTime": {
     "end_time": "2024-04-28T21:17:15.122675300Z",
     "start_time": "2024-04-28T21:17:15.112137400Z"
    }
   },
   "outputs": [],
   "source": [
    "from itertools import product\n",
    "from collections import deque\n",
    "import multiprocessing\n",
    "from sklearn.metrics import root_mean_squared_error\n",
    "\n",
    "from src.pid import PIDController\n",
    "from src.simulation import Simulation\n",
    "from src.genetic import fitness"
   ]
  },
  {
   "cell_type": "code",
   "outputs": [],
   "source": [
    "p = [x / 10.0 for x in range(-100, 101, 5)]\n",
    "i = [x / 500000.0 for x in range(-100, 101, 10)]\n",
    "d = [x / 0.2 for x in range(-100, 101, 5)]"
   ],
   "metadata": {
    "collapsed": false,
    "ExecuteTime": {
     "end_time": "2024-04-28T21:17:15.853231600Z",
     "start_time": "2024-04-28T21:17:15.848213300Z"
    }
   },
   "id": "4b5452844aa47076",
   "execution_count": 4
  },
  {
   "cell_type": "code",
   "outputs": [
    {
     "data": {
      "text/plain": "(35301, [(-10.0, -0.0002, -500.0), (-10.0, -0.0002, -475.0)])"
     },
     "execution_count": 5,
     "metadata": {},
     "output_type": "execute_result"
    }
   ],
   "source": [
    "pid_combinations = list(product(p, i, d))\n",
    "num_pid_conbinations = len(pid_combinations)\n",
    "\n",
    "num_pid_conbinations, pid_combinations[:2]"
   ],
   "metadata": {
    "collapsed": false,
    "ExecuteTime": {
     "end_time": "2024-04-28T21:17:16.517767300Z",
     "start_time": "2024-04-28T21:17:16.464143Z"
    }
   },
   "id": "b6a8c154f4151e7e",
   "execution_count": 5
  },
  {
   "cell_type": "code",
   "outputs": [],
   "source": [
    "setpoints = [-5] * 30 * 10 + [5] * 30 * 10"
   ],
   "metadata": {
    "collapsed": false,
    "ExecuteTime": {
     "end_time": "2024-04-28T21:17:17.533604200Z",
     "start_time": "2024-04-28T21:17:17.527062700Z"
    }
   },
   "id": "e49a2949b7ed683c",
   "execution_count": 6
  },
  {
   "cell_type": "code",
   "outputs": [
    {
     "name": "stdout",
     "output_type": "stream",
     "text": [
      "0.002832780941049829 %\n",
      "2.8356137219908786 %\n",
      "5.668394663040708 %\n",
      "8.501175604090536 %\n",
      "11.333956545140365 %\n",
      "14.166737486190193 %\n",
      "16.999518427240023 %\n",
      "19.832299368289853 %\n",
      "22.66508030933968 %\n",
      "25.49786125038951 %\n",
      "28.33064219143934 %\n",
      "31.163423132489168 %\n",
      "33.996204073539 %\n",
      "36.828985014588824 %\n",
      "39.66176595563865 %\n",
      "42.49454689668848 %\n",
      "45.32732783773831 %\n",
      "48.16010877878814 %\n",
      "50.99288971983797 %\n",
      "53.825670660887795 %\n",
      "56.65845160193763 %\n",
      "59.491232542987454 %\n",
      "62.32401348403728 %\n",
      "65.15679442508711 %\n",
      "67.98957536613695 %\n",
      "70.82235630718677 %\n",
      "73.6551372482366 %\n",
      "76.48791818928643 %\n",
      "79.32069913033625 %\n",
      "82.15348007138608 %\n",
      "84.98626101243592 %\n",
      "87.81904195348574 %\n",
      "90.65182289453557 %\n",
      "93.4846038355854 %\n",
      "96.31738477663522 %\n",
      "99.15016571768506 %\n"
     ]
    }
   ],
   "source": [
    "best_parameter_error = 99999\n",
    "positions = deque()\n",
    "for idx, (kp, ki, kd) in enumerate(pid_combinations):\n",
    "    pid_controller = PIDController(kp, ki, kd, setpoints[0])\n",
    "    simulation = Simulation(mass=0.2, delta_t=1 / 30)\n",
    "    position = 0\n",
    "    for setpoint in setpoints:\n",
    "        pid_controller.setpoint = setpoint\n",
    "        new_angle = pid_controller.next(position)\n",
    "        _, _, position = simulation.next(new_angle)\n",
    "        positions.append(position)\n",
    "\n",
    "    # error = root_mean_squared_error(setpoints, positions)\n",
    "    error = fitness(positions, setpoints, weight_factor=0.2)\n",
    "    if error < best_parameter_error:\n",
    "        best_parameters = kp, ki, kd\n",
    "        best_parameter_error = error\n",
    "        \n",
    "    positions.clear()\n",
    "    position = 0\n",
    "    \n",
    "    if idx % 1000 == 0:\n",
    "        print(f'{(100 / num_pid_conbinations) * (idx + 1)} %')"
   ],
   "metadata": {
    "collapsed": false,
    "ExecuteTime": {
     "end_time": "2024-04-28T21:31:24.143230600Z",
     "start_time": "2024-04-28T21:17:23.691426600Z"
    }
   },
   "id": "6fa5d2c8790dc5ef",
   "execution_count": 7
  },
  {
   "cell_type": "code",
   "outputs": [
    {
     "data": {
      "text/plain": "(52.08580740442822, (-10.0, -0.0002, -150.0))"
     },
     "execution_count": 8,
     "metadata": {},
     "output_type": "execute_result"
    }
   ],
   "source": [
    "best_parameter_error, best_parameters"
   ],
   "metadata": {
    "collapsed": false,
    "ExecuteTime": {
     "end_time": "2024-04-28T21:32:20.746630600Z",
     "start_time": "2024-04-28T21:32:20.740941800Z"
    }
   },
   "id": "8b38091eca7b027",
   "execution_count": 8
  },
  {
   "cell_type": "code",
   "outputs": [
    {
     "data": {
      "text/plain": "8"
     },
     "execution_count": 36,
     "metadata": {},
     "output_type": "execute_result"
    }
   ],
   "source": [
    "multiprocessing.cpu_count()"
   ],
   "metadata": {
    "collapsed": false,
    "ExecuteTime": {
     "end_time": "2024-04-27T23:35:27.424253900Z",
     "start_time": "2024-04-27T23:35:27.407948900Z"
    }
   },
   "id": "e23e17aa6da48d11",
   "execution_count": 36
  }
 ],
 "metadata": {
  "kernelspec": {
   "display_name": "Python 3",
   "language": "python",
   "name": "python3"
  },
  "language_info": {
   "codemirror_mode": {
    "name": "ipython",
    "version": 2
   },
   "file_extension": ".py",
   "mimetype": "text/x-python",
   "name": "python",
   "nbconvert_exporter": "python",
   "pygments_lexer": "ipython2",
   "version": "2.7.6"
  }
 },
 "nbformat": 4,
 "nbformat_minor": 5
}
