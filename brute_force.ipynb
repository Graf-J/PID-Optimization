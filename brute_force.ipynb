{
 "cells": [
  {
   "cell_type": "code",
   "execution_count": 2,
   "id": "initial_id",
   "metadata": {
    "collapsed": true,
    "ExecuteTime": {
     "end_time": "2024-04-29T19:26:13.308733400Z",
     "start_time": "2024-04-29T19:26:13.077575100Z"
    }
   },
   "outputs": [],
   "source": [
    "from itertools import product\n",
    "from collections import deque\n",
    "import multiprocessing\n",
    "\n",
    "from ipywidgets import IntProgress\n",
    "from IPython.display import display\n",
    "\n",
    "from src.pid import PIDController\n",
    "from src.simulation import Simulation\n",
    "from src.genetic import fitness"
   ]
  },
  {
   "cell_type": "code",
   "outputs": [],
   "source": [
    "p = [x / 10.0 for x in range(-100, 101, 5)]\n",
    "i = [x / 500000.0 for x in range(-100, 101, 10)]\n",
    "d = [x / 0.2 for x in range(-100, 101, 5)]"
   ],
   "metadata": {
    "collapsed": false,
    "ExecuteTime": {
     "end_time": "2024-04-29T19:26:13.787593Z",
     "start_time": "2024-04-29T19:26:13.785584800Z"
    }
   },
   "id": "4b5452844aa47076",
   "execution_count": 3
  },
  {
   "cell_type": "code",
   "outputs": [
    {
     "data": {
      "text/plain": "(35301, [(-10.0, -0.0002, -500.0), (-10.0, -0.0002, -475.0)])"
     },
     "execution_count": 4,
     "metadata": {},
     "output_type": "execute_result"
    }
   ],
   "source": [
    "pid_combinations = list(product(p, i, d))\n",
    "num_pid_combinations = len(pid_combinations)\n",
    "\n",
    "num_pid_combinations, pid_combinations[:2]"
   ],
   "metadata": {
    "collapsed": false,
    "ExecuteTime": {
     "end_time": "2024-04-29T19:26:14.080781500Z",
     "start_time": "2024-04-29T19:26:14.069928900Z"
    }
   },
   "id": "b6a8c154f4151e7e",
   "execution_count": 4
  },
  {
   "cell_type": "code",
   "outputs": [],
   "source": [
    "setpoints = [-5] * 30 * 2 + [7] * 30 * 2"
   ],
   "metadata": {
    "collapsed": false,
    "ExecuteTime": {
     "end_time": "2024-04-29T19:26:14.845351200Z",
     "start_time": "2024-04-29T19:26:14.837301200Z"
    }
   },
   "id": "e49a2949b7ed683c",
   "execution_count": 5
  },
  {
   "cell_type": "code",
   "outputs": [
    {
     "data": {
      "text/plain": "IntProgress(value=0, max=35)",
      "application/vnd.jupyter.widget-view+json": {
       "version_major": 2,
       "version_minor": 0,
       "model_id": "0f535be29f1d41aa80ee3cfd8bd267f9"
      }
     },
     "metadata": {},
     "output_type": "display_data"
    }
   ],
   "source": [
    "f = IntProgress(min=0, max=num_pid_combinations / 1000)\n",
    "display(f)\n",
    "\n",
    "best_parameter_error = 99999999\n",
    "positions = deque()\n",
    "times = deque()\n",
    "simulation_times = deque()\n",
    "for idx, (kp, ki, kd) in enumerate(pid_combinations):\n",
    "    pid_controller = PIDController(kp, ki, kd, setpoints[0])\n",
    "    simulation = Simulation(mass=0.2, delta_t=1 / 30)\n",
    "    position = 0\n",
    "    positions = []\n",
    "    \n",
    "    for setpoint in setpoints:\n",
    "        pid_controller.setpoint = setpoint\n",
    "        new_angle = pid_controller.next(position)\n",
    "        _, _, position = simulation.next(new_angle)\n",
    "        positions.append(position)\n",
    "\n",
    "    error = fitness(positions, setpoints, weight_factor=2)\n",
    "    if error < best_parameter_error:\n",
    "        best_parameters = kp, ki, kd\n",
    "        best_parameter_error = error\n",
    "        \n",
    "    if (idx + 1) % 1000 == 0:\n",
    "        f.value += 1"
   ],
   "metadata": {
    "collapsed": false,
    "ExecuteTime": {
     "end_time": "2024-04-29T19:32:52.828359900Z",
     "start_time": "2024-04-29T19:32:42.225504100Z"
    }
   },
   "id": "6fa5d2c8790dc5ef",
   "execution_count": 18
  },
  {
   "cell_type": "code",
   "outputs": [
    {
     "data": {
      "text/plain": "(-8.0, 0.0002, -125.0)"
     },
     "execution_count": 19,
     "metadata": {},
     "output_type": "execute_result"
    }
   ],
   "source": [
    "best_parameters"
   ],
   "metadata": {
    "collapsed": false,
    "ExecuteTime": {
     "end_time": "2024-04-29T19:32:53.572470500Z",
     "start_time": "2024-04-29T19:32:53.563792700Z"
    }
   },
   "id": "15170f850d2b87f9",
   "execution_count": 19
  },
  {
   "cell_type": "code",
   "outputs": [
    {
     "data": {
      "text/plain": "8"
     },
     "execution_count": 36,
     "metadata": {},
     "output_type": "execute_result"
    }
   ],
   "source": [
    "multiprocessing.cpu_count()"
   ],
   "metadata": {
    "collapsed": false,
    "ExecuteTime": {
     "end_time": "2024-04-27T23:35:27.424253900Z",
     "start_time": "2024-04-27T23:35:27.407948900Z"
    }
   },
   "id": "e23e17aa6da48d11",
   "execution_count": 36
  }
 ],
 "metadata": {
  "kernelspec": {
   "display_name": "Python 3",
   "language": "python",
   "name": "python3"
  },
  "language_info": {
   "codemirror_mode": {
    "name": "ipython",
    "version": 2
   },
   "file_extension": ".py",
   "mimetype": "text/x-python",
   "name": "python",
   "nbconvert_exporter": "python",
   "pygments_lexer": "ipython2",
   "version": "2.7.6"
  }
 },
 "nbformat": 4,
 "nbformat_minor": 5
}
