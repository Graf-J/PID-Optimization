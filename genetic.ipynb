{
 "cells": [
  {
   "cell_type": "code",
   "execution_count": 16,
   "id": "initial_id",
   "metadata": {
    "ExecuteTime": {
     "end_time": "2024-05-15T10:41:12.391029200Z",
     "start_time": "2024-05-15T10:41:10.767306900Z"
    }
   },
   "outputs": [],
   "source": [
    "import time\n",
    "import random\n",
    "from typing import List, Callable\n",
    "from dataclasses import dataclass\n",
    "\n",
    "import numpy as np\n",
    "import plotly.express as px\n",
    "from matplotlib import pyplot as plt\n",
    "import ipywidgets as widgets\n",
    "from IPython.display import display\n",
    "\n",
    "from src.genetic import fitness\n",
    "from src.simulation import Simulation\n",
    "from src.pid import PIDController\n",
    "from src.visualization import VisualizationFactory, VisualizationType"
   ]
  },
  {
   "cell_type": "code",
   "execution_count": 17,
   "id": "9acea147-bad3-41da-bb3b-60e494d39b0f",
   "metadata": {},
   "outputs": [],
   "source": [
    "def get_id_generator():\n",
    "    num = 1\n",
    "    while True:\n",
    "        yield num\n",
    "        num += 1\n",
    "\n",
    "id_generator = get_id_generator()"
   ]
  },
  {
   "cell_type": "code",
   "execution_count": 18,
   "id": "c6f57f4410ac2b57",
   "metadata": {
    "ExecuteTime": {
     "end_time": "2024-05-14T21:24:36.972458500Z",
     "start_time": "2024-05-14T21:24:36.944287400Z"
    },
    "collapsed": false,
    "jupyter": {
     "outputs_hidden": false
    }
   },
   "outputs": [],
   "source": [
    "def batch(iterable, n=1):\n",
    "    l = len(iterable)\n",
    "    for ndx in range(0, l, n):\n",
    "        yield iterable[ndx:min(ndx + n, l)]"
   ]
  },
  {
   "cell_type": "code",
   "execution_count": 19,
   "id": "f63f4e8192f87358",
   "metadata": {
    "ExecuteTime": {
     "end_time": "2024-05-14T21:24:37.575409200Z",
     "start_time": "2024-05-14T21:24:37.548814100Z"
    },
    "collapsed": false,
    "jupyter": {
     "outputs_hidden": false
    }
   },
   "outputs": [],
   "source": [
    "@dataclass\n",
    "class Genome:\n",
    "    id: int\n",
    "    p: float\n",
    "    i: float\n",
    "    d: float\n",
    "    generation: int\n",
    "    fitness: float = 0.0\n",
    "    is_mutated: bool = False\n",
    "    got_killed: bool = True"
   ]
  },
  {
   "cell_type": "code",
   "execution_count": 20,
   "id": "1263305d532a0ba8",
   "metadata": {
    "ExecuteTime": {
     "end_time": "2024-05-14T21:24:37.980982400Z",
     "start_time": "2024-05-14T21:24:37.963906500Z"
    },
    "collapsed": false,
    "jupyter": {
     "outputs_hidden": false
    }
   },
   "outputs": [],
   "source": [
    "def generate_population(population_size: int, p_min: float, p_max: float, i_min: float, i_max: float, d_min: float, d_max: float) -> List[Genome]:\n",
    "    p = np.random.uniform(p_min, p_max, population_size)\n",
    "    i = np.random.uniform(i_min, i_max, population_size)\n",
    "    d = np.random.uniform(d_min, d_max, population_size)\n",
    "    population = np.array([p, i, d]).transpose()\n",
    "    \n",
    "    genomes = []\n",
    "    for genome in population:\n",
    "        genomes.append(Genome(id=next(id_generator), p=genome[0], i=genome[1], d=genome[2], generation=1))\n",
    "        \n",
    "    return genomes"
   ]
  },
  {
   "cell_type": "code",
   "execution_count": 21,
   "id": "100cf4a3112fbf1e",
   "metadata": {
    "ExecuteTime": {
     "end_time": "2024-05-14T21:24:38.535472600Z",
     "start_time": "2024-05-14T21:24:38.486489300Z"
    },
    "collapsed": false,
    "jupyter": {
     "outputs_hidden": false
    }
   },
   "outputs": [],
   "source": [
    "def select_genomes(selection_size: int, genomes: List[Genome], errors: List[float]) -> List[Genome]:\n",
    "    assert selection_size % 2 == 0\n",
    "    indices_of_smallest_error = sorted(range(len(errors)), key=lambda i: errors[i])[:selection_size]\n",
    "    best_genomes = [genomes[i] for i in indices_of_smallest_error]\n",
    "\n",
    "    for genome in best_genomes:\n",
    "        genome.got_killed = False\n",
    "    \n",
    "    return best_genomes"
   ]
  },
  {
   "cell_type": "code",
   "execution_count": 22,
   "id": "6724aebb4e2b1583",
   "metadata": {
    "ExecuteTime": {
     "end_time": "2024-05-14T21:24:38.933272100Z",
     "start_time": "2024-05-14T21:24:38.917154700Z"
    },
    "collapsed": false,
    "jupyter": {
     "outputs_hidden": false
    }
   },
   "outputs": [],
   "source": [
    "def calculate_fitness(genome: Genome, simulation: Simulation, setpoints: List[float], external_force: List[float], fitness_func: Callable) -> float:\n",
    "    pid_controller = PIDController(genome.p, genome.i, genome.d, setpoint=setpoints[0])\n",
    "    \n",
    "    positions = []\n",
    "    position = 0\n",
    "    for idx, setpoint in enumerate(setpoints):\n",
    "        pid_controller.setpoint = setpoint\n",
    "        new_angle = pid_controller.next(position)\n",
    "        _, _, position = simulation.next(new_angle, external_force[idx])\n",
    "        positions.append(position)\n",
    "        \n",
    "    error = fitness_func(positions, setpoints, weight_factor)\n",
    "    return error, positions"
   ]
  },
  {
   "cell_type": "code",
   "execution_count": 23,
   "id": "6590c2f9d61a8029",
   "metadata": {
    "ExecuteTime": {
     "end_time": "2024-05-14T21:24:39.309175200Z",
     "start_time": "2024-05-14T21:24:39.290117900Z"
    },
    "collapsed": false,
    "jupyter": {
     "outputs_hidden": false
    }
   },
   "outputs": [],
   "source": [
    "def crossover(parents: List[Genome], crossover_rate: int) -> List[Genome]:\n",
    "    children = []\n",
    "    for mother, father in batch(parents, n=2):\n",
    "        p_mean, i_mean, d_mean = (mother.p + father.p) / 2, (mother.i + father.i) / 2, (mother.d + father.d) / 2\n",
    "        p_std_dev, i_std_dev, d_std_dev = abs(mother.p - p_mean), abs(mother.i - i_mean), abs(mother.d - d_mean)\n",
    "        \n",
    "        p_children = np.random.normal(p_mean, p_std_dev, crossover_rate)\n",
    "        i_children = np.random.normal(i_mean, i_std_dev, crossover_rate)\n",
    "        d_children = np.random.normal(d_mean, d_std_dev, crossover_rate)\n",
    "        \n",
    "        for p, i, d in zip(p_children, i_children, d_children):\n",
    "            children.append(Genome(id=next(id_generator), p=p, i=i, d=d, generation=mother.generation + 1))\n",
    "            \n",
    "    return children"
   ]
  },
  {
   "cell_type": "code",
   "execution_count": 24,
   "id": "eb7532e48ccf98c5",
   "metadata": {
    "ExecuteTime": {
     "end_time": "2024-05-14T21:25:54.872108800Z",
     "start_time": "2024-05-14T21:25:54.836399800Z"
    },
    "collapsed": false,
    "jupyter": {
     "outputs_hidden": false
    }
   },
   "outputs": [],
   "source": [
    "def mutate(children: List[Genome], mutation_probability: float, mutation_impact: float) -> List[Genome]:\n",
    "    p_vals = [genome.p for genome in children]\n",
    "    i_vals = [genome.i for genome in children]\n",
    "    d_vals = [genome.d for genome in children]\n",
    "\n",
    "    p_mean = np.mean(p_vals)\n",
    "    p_std_dev = np.std(p_vals)\n",
    "    i_mean = np.mean(i_vals)\n",
    "    i_std_dev = np.std(i_vals)\n",
    "    d_mean = np.mean(d_vals)\n",
    "    d_std_dev = np.std(d_vals)\n",
    "\n",
    "    num_mutations = 0\n",
    "    mutated_genomes = []\n",
    "    for genome in children:\n",
    "        if random.uniform(0, 1) < mutation_probability:\n",
    "            num_mutations += 1\n",
    "            mutated_p = np.random.normal(p_mean, p_std_dev * mutation_impact)\n",
    "            mutated_i = np.random.normal(i_mean, i_std_dev * mutation_impact)\n",
    "            mutated_d = np.random.normal(d_mean, d_std_dev * mutation_impact)\n",
    "            mutated_genomes.append(Genome(id=genome.id, p=mutated_p, i=mutated_i, d=mutated_d, generation=genome.generation, is_mutated=True))\n",
    "        else:\n",
    "            mutated_genomes.append(genome)\n",
    "\n",
    "    return mutated_genomes"
   ]
  },
  {
   "cell_type": "code",
   "execution_count": 25,
   "id": "94a052483803ccac",
   "metadata": {
    "ExecuteTime": {
     "end_time": "2024-05-14T21:25:35.993111500Z",
     "start_time": "2024-05-14T21:25:35.974558700Z"
    },
    "collapsed": false,
    "jupyter": {
     "outputs_hidden": false
    }
   },
   "outputs": [],
   "source": [
    "population_size = 120\n",
    "selection_size = 30\n",
    "crossover_rate = 8\n",
    "mutation_probability = 0.2\n",
    "mutation_impact = 5\n",
    "num_generations = 20\n",
    "p_min, p_max = -30, 30\n",
    "i_min, i_max = -1, 1\n",
    "d_min, d_max = -300, 300"
   ]
  },
  {
   "cell_type": "code",
   "execution_count": 26,
   "id": "9c546bfa5ad3b328",
   "metadata": {
    "ExecuteTime": {
     "end_time": "2024-05-14T21:25:36.348118400Z",
     "start_time": "2024-05-14T21:25:36.327044200Z"
    },
    "collapsed": false,
    "jupyter": {
     "outputs_hidden": false
    }
   },
   "outputs": [],
   "source": [
    "fps = 30\n",
    "setpoints = [-10] * fps * 10 + [5] * fps * 10 + [0] * fps * 40 + [8] * fps * 10 + [0] * fps * 10\n",
    "external_force = [0] * fps * 30 + [1] * fps * 50\n",
    "mass = 0.2\n",
    "delta_t = 1 / fps\n",
    "weight_factor = 0.4"
   ]
  },
  {
   "cell_type": "code",
   "execution_count": 27,
   "id": "a581e4a043352b85",
   "metadata": {
    "ExecuteTime": {
     "end_time": "2024-05-14T21:25:54.829897100Z",
     "start_time": "2024-05-14T21:25:37.835507800Z"
    },
    "collapsed": false,
    "jupyter": {
     "outputs_hidden": false
    },
    "scrolled": true
   },
   "outputs": [
    {
     "name": "stdout",
     "output_type": "stream",
     "text": [
      "Min. Error: 1881.8081587994382\n",
      "Min. Error: 1185.9932537599493\n",
      "Min. Error: 1074.0474490712481\n",
      "Min. Error: 778.4334184553475\n",
      "Min. Error: 772.7992462867127\n",
      "Min. Error: 727.315456964038\n",
      "Min. Error: 702.1973077537066\n",
      "Min. Error: 693.8302752007035\n",
      "Min. Error: 688.705196562408\n",
      "Min. Error: 694.9217852690249\n",
      "Min. Error: 685.7317024151915\n",
      "Min. Error: 688.8336513823344\n",
      "Min. Error: 686.8720584106252\n",
      "Min. Error: 688.0890472806426\n",
      "Min. Error: 681.7256587892914\n",
      "Min. Error: 679.8024795331759\n",
      "Min. Error: 681.0462491840774\n",
      "Min. Error: 681.8279473943879\n",
      "Min. Error: 674.6857870767061\n",
      "Min. Error: 681.4049452694703\n",
      "Simulated 2.22 days in 12.02 seconds\n",
      "Genome(id=2161, p=-9.676421758177103, i=-0.015657198614502123, d=-224.21293706289572, generation=19, fitness=674.6857870767061, is_mutated=True, got_killed=False)\n"
     ]
    }
   ],
   "source": [
    "start = time.time()\n",
    "population = generate_population(population_size, p_min, p_max, i_min, i_max, d_min, d_max)\n",
    "all_genomes = population.copy()\n",
    "smallest_error = None\n",
    "best_genome = None\n",
    "best_genome_positions = None\n",
    "for generation in range(num_generations):\n",
    "    errors = []\n",
    "    for genome in population:\n",
    "        error, positions = calculate_fitness(genome, Simulation(mass=mass, delta_t=delta_t), setpoints, external_force, fitness)\n",
    "        genome.fitness = error\n",
    "        if smallest_error is None or genome.fitness < smallest_error:\n",
    "            smallest_error = genome.fitness\n",
    "            best_genome = genome\n",
    "            best_genome_positions = positions\n",
    "        errors.append(error)\n",
    "\n",
    "    print(f'Min. Error: {np.min(errors)}')\n",
    "\n",
    "    parents = select_genomes(selection_size, population, errors)\n",
    "    children = crossover(parents, crossover_rate)\n",
    "    population = mutate(children, mutation_probability, mutation_impact)\n",
    "    all_genomes += population\n",
    "\n",
    "print(f'Simulated {round(population_size * num_generations * len(setpoints) * delta_t / (60 * 60 * 24), 2)} days in {round(time.time() - start, 2)} seconds')\n",
    "print(best_genome)"
   ]
  },
  {
   "cell_type": "code",
   "execution_count": 28,
   "id": "3e6712ca-16bc-4b09-821d-c5747d7c85f0",
   "metadata": {
    "ExecuteTime": {
     "end_time": "2024-05-14T21:26:02.006360100Z",
     "start_time": "2024-05-14T21:26:01.741536100Z"
    }
   },
   "outputs": [
    {
     "data": {
      "image/png": "[encoded data removed]",
      "text/plain": [
       "<Figure size 640x480 with 1 Axes>"
      ]
     },
     "metadata": {},
     "output_type": "display_data"
    }
   ],
   "source": [
    "plt.plot(np.arange(len(setpoints)) / fps, best_genome_positions)\n",
    "plt.plot(np.arange(len(setpoints)) / fps, setpoints)\n",
    "\n",
    "plt.xlabel('Time [s]')\n",
    "plt.ylabel('Position [m]')\n",
    "plt.legend(['Position', 'Desired Position'])\n",
    "\n",
    "plt.show()"
   ]
  },
  {
   "cell_type": "code",
   "execution_count": 29,
   "id": "e776e2fdad0ff18c",
   "metadata": {
    "ExecuteTime": {
     "end_time": "2024-05-14T21:28:35.153901400Z",
     "start_time": "2024-05-14T21:28:35.090056Z"
    },
    "collapsed": false,
    "jupyter": {
     "outputs_hidden": false
    }
   },
   "outputs": [
    {
     "data": {
      "application/vnd.jupyter.widget-view+json": {
       "model_id": "ecf1b6b4d47e4869b50bcb340eb204a4",
       "version_major": 2,
       "version_minor": 0
      },
      "text/plain": [
       "interactive(children=(IntSlider(value=1, description='Generation', max=20, min=1), Checkbox(value=False, descr…"
      ]
     },
     "metadata": {},
     "output_type": "display_data"
    }
   ],
   "source": [
    "def update_plot(generation, show_selection):\n",
    "    generation_genomes = [genome for genome in all_genomes if genome.generation == generation]\n",
    "    p = [genome.p for genome in generation_genomes]\n",
    "    i = [genome.i for genome in generation_genomes]\n",
    "    d = [genome.d for genome in generation_genomes]\n",
    "    \n",
    "    plot_data = {\n",
    "        'id': [genome.id for genome in generation_genomes],\n",
    "        'P': p,\n",
    "        'I': i,\n",
    "        'D': d,\n",
    "        'fitness': [genome.fitness for genome in generation_genomes],\n",
    "        'got_killed': [genome.got_killed for genome in generation_genomes],\n",
    "        'mutated': [genome.is_mutated for genome in generation_genomes]\n",
    "    }\n",
    "\n",
    "    color_map = {True: 'red', False: 'green'}\n",
    "    symbol_map = {True: 'diamond-open', False: 'circle'}\n",
    "    fig = px.scatter_3d(\n",
    "        plot_data, \n",
    "        x='P', y='I', z='D', \n",
    "        color='got_killed' if show_selection else 'fitness', color_discrete_map=color_map, \n",
    "        symbol='mutated', symbol_sequence=[symbol_map[mutated] for mutated in plot_data['mutated']],\n",
    "        hover_data={'id': True, 'P': True, 'I': True, 'D': True, 'got_killed': True, 'mutated': True}\n",
    "    )\n",
    "    fig.update_layout(\n",
    "        scene=dict(\n",
    "            xaxis=dict(range=[min(np.min(p), p_min), max(np.max(p), p_max)]),\n",
    "            yaxis=dict(range=[min(np.min(i), i_min), max(np.max(i), i_max)]),\n",
    "            zaxis=dict(range=[min(np.min(d), d_min), max(np.max(d), d_max)])\n",
    "        ),\n",
    "        width=800,\n",
    "        height=800\n",
    "    )\n",
    "    fig.show()\n",
    "\n",
    "generation_slider = widgets.IntSlider(value=1, min=1, max=num_generations, description='Generation')\n",
    "show_selection_checkbox = widgets.Checkbox(value=False, description='Show Selection')\n",
    "\n",
    "interactive_plot = widgets.interactive(update_plot, generation=generation_slider, show_selection=show_selection_checkbox)\n",
    "display(interactive_plot)"
   ]
  },
  {
   "cell_type": "code",
   "execution_count": 30,
   "id": "e632009a-df20-4332-bbee-1fd47465b00f",
   "metadata": {
    "ExecuteTime": {
     "end_time": "2024-05-14T21:22:09.212727Z",
     "start_time": "2024-05-14T21:21:59.002120700Z"
    }
   },
   "outputs": [],
   "source": [
    "search_id = 2161\n",
    "genome = next(filter(lambda genome: genome.id == search_id, all_genomes))\n",
    "visualization = VisualizationFactory.create_visualization(VisualizationType.PID, kp=genome.p, ki=genome.i, kd=genome.d)\n",
    "visualization.run()"
   ]
  }
 ],
 "metadata": {
  "kernelspec": {
   "display_name": "Python 3 (ipykernel)",
   "language": "python",
   "name": "python3"
  },
  "language_info": {
   "codemirror_mode": {
    "name": "ipython",
    "version": 3
   },
   "file_extension": ".py",
   "mimetype": "text/x-python",
   "name": "python",
   "nbconvert_exporter": "python",
   "pygments_lexer": "ipython3",
   "version": "3.11.6"
  }
 },
 "nbformat": 4,
 "nbformat_minor": 5
}
