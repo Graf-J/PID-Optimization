{
 "cells": [
  {
   "cell_type": "code",
   "execution_count": 1,
   "id": "initial_id",
   "metadata": {
    "ExecuteTime": {
     "end_time": "2024-04-27T23:48:23.173903300Z",
     "start_time": "2024-04-27T23:48:23.151863700Z"
    },
    "collapsed": true,
    "jupyter": {
     "outputs_hidden": true
    }
   },
   "outputs": [],
   "source": [
    "from src.utils.utils import work\n",
    "import multiprocessing"
   ]
  },
  {
   "cell_type": "code",
   "execution_count": 2,
   "id": "62d5bcf3051d4d00",
   "metadata": {
    "ExecuteTime": {
     "end_time": "2024-04-27T23:48:24.438668600Z",
     "start_time": "2024-04-27T23:48:24.432551900Z"
    },
    "collapsed": false,
    "jupyter": {
     "outputs_hidden": false
    }
   },
   "outputs": [],
   "source": [
    "data = [(1, 2, 3), (4, 5, 6), (7, 8, 9), (10, 11, 12)]"
   ]
  },
  {
   "cell_type": "code",
   "execution_count": 3,
   "id": "1b23dd78ec36f888",
   "metadata": {
    "ExecuteTime": {
     "end_time": "2024-04-27T23:48:25.120801500Z",
     "start_time": "2024-04-27T23:48:25.108738Z"
    },
    "collapsed": false,
    "jupyter": {
     "outputs_hidden": false
    }
   },
   "outputs": [],
   "source": [
    "# def work(data):\n",
    "#     print(data)\n",
    "#     time.sleep(1)"
   ]
  },
  {
   "cell_type": "code",
   "execution_count": 4,
   "id": "6840d5438d24a129",
   "metadata": {
    "ExecuteTime": {
     "end_time": "2024-04-27T23:48:27.080775500Z",
     "start_time": "2024-04-27T23:48:25.778044300Z"
    },
    "collapsed": false,
    "jupyter": {
     "outputs_hidden": false
    }
   },
   "outputs": [
    {
     "data": {
      "text/plain": [
       "[6, 15, 24, 33]"
      ]
     },
     "execution_count": 4,
     "metadata": {},
     "output_type": "execute_result"
    }
   ],
   "source": [
    "p = multiprocessing.Pool(4)\n",
    "p.map(work, data)"
   ]
  }
 ],
 "metadata": {
  "kernelspec": {
   "display_name": "Python 3 (ipykernel)",
   "language": "python",
   "name": "python3"
  },
  "language_info": {
   "codemirror_mode": {
    "name": "ipython",
    "version": 3
   },
   "file_extension": ".py",
   "mimetype": "text/x-python",
   "name": "python",
   "nbconvert_exporter": "python",
   "pygments_lexer": "ipython3",
   "version": "3.11.6"
  }
 },
 "nbformat": 4,
 "nbformat_minor": 5
}
